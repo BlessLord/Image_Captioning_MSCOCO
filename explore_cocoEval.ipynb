{
 "cells": [
  {
   "cell_type": "code",
   "execution_count": 1,
   "metadata": {},
   "outputs": [
    {
     "name": "stdout",
     "output_type": "stream",
     "text": [
      "['', '/anaconda3/lib/python36.zip', '/anaconda3/lib/python3.6', '/anaconda3/lib/python3.6/lib-dynload', '/anaconda3/lib/python3.6/site-packages', '/anaconda3/lib/python3.6/site-packages/aeosa', '/anaconda3/lib/python3.6/site-packages/IPython/extensions', '/Users/junjiedong/.ipython', 'coco/PythonAPI']\n"
     ]
    }
   ],
   "source": [
    "import os\n",
    "import sys\n",
    "import argparse\n",
    "import json\n",
    "import numpy as np\n",
    "import re\n",
    "import random\n",
    "import logging\n",
    "import _pickle as cPickle\n",
    "import time\n",
    "from utils import tokenize\n",
    "\n",
    "sys.path.append('coco/PythonAPI')\n",
    "print(sys.path)\n",
    "from pycocotools.coco import COCO\n",
    "from coco.coco_caption_py3.pycocoevalcap.eval import COCOEvalCap\n",
    "\n",
    "import matplotlib.pyplot as plt\n",
    "import matplotlib.image as mpimg\n",
    "%matplotlib inline"
   ]
  },
  {
   "cell_type": "code",
   "execution_count": 2,
   "metadata": {
    "collapsed": true
   },
   "outputs": [],
   "source": [
    "# set up file names and pathes\n",
    "annFile='./coco/annotations/captions_val2014.json'\n",
    "resFile = './coco/coco_caption_py3/results/captions_val2014_fakecap_results.json'"
   ]
  },
  {
   "cell_type": "code",
   "execution_count": 3,
   "metadata": {},
   "outputs": [
    {
     "name": "stdout",
     "output_type": "stream",
     "text": [
      "loading annotations into memory...\n",
      "Done (t=0.36s)\n",
      "creating index...\n",
      "index created!\n",
      "Loading and preparing results...\n",
      "DONE (t=0.02s)\n",
      "creating index...\n",
      "index created!\n"
     ]
    }
   ],
   "source": [
    "# create coco object and cocoRes object\n",
    "coco = COCO(annFile)\n",
    "cocoRes = coco.loadRes(resFile)"
   ]
  },
  {
   "cell_type": "code",
   "execution_count": 4,
   "metadata": {},
   "outputs": [
    {
     "name": "stdout",
     "output_type": "stream",
     "text": [
      "tokenization...\n",
      "setting up scorers...\n",
      "computing Bleu score...\n",
      "{'testlen': 9893, 'reflen': 9855, 'guess': [9893, 8893, 7893, 6893], 'correct': [5732, 2510, 1043, 423]}\n",
      "ratio: 1.003855910705124\n",
      "Bleu_1: 0.579\n",
      "Bleu_2: 0.404\n",
      "Bleu_3: 0.279\n",
      "Bleu_4: 0.191\n",
      "computing METEOR score...\n",
      "METEOR: 0.195\n",
      "computing Rouge score...\n",
      "ROUGE_L: 0.396\n",
      "computing CIDEr score...\n",
      "CIDEr: 0.600\n",
      "\n",
      "Evaluation took 11.559043169021606 seconds.\n",
      "\n",
      "Bleu_1: 0.5793995754573356\n",
      "Bleu_2: 0.40439129741018104\n",
      "Bleu_3: 0.2785363856619147\n",
      "Bleu_4: 0.1908290437674253\n",
      "METEOR: 0.19525467177780284\n",
      "ROUGE_L: 0.39625269357570847\n",
      "CIDEr: 0.5997905185184199\n"
     ]
    }
   ],
   "source": [
    "# create cocoEval object by taking coco and cocoRes\n",
    "cocoEval = COCOEvalCap(coco, cocoRes)\n",
    "\n",
    "# evaluate on a subset of images by setting\n",
    "# cocoEval.params['image_id'] = cocoRes.getImgIds()\n",
    "# please remove this line when evaluating the full validation set\n",
    "cocoEval.params['image_id'] = cocoRes.getImgIds()\n",
    "\n",
    "# evaluate results\n",
    "tic = time.time()\n",
    "cocoEval.evaluate()\n",
    "print(\"\\nEvaluation took {} seconds.\\n\".format(time.time() - tic))\n",
    "\n",
    "# print output evaluation scores\n",
    "for metric, score in cocoEval.eval.items():\n",
    "    print(\"{}: {}\".format(metric, score))"
   ]
  },
  {
   "cell_type": "markdown",
   "metadata": {},
   "source": [
    "Evaluating 1000 examples on all four metrics takes 12s -> Evaluating on our size-5000 val set will take about 1min. Good!"
   ]
  },
  {
   "cell_type": "code",
   "execution_count": 5,
   "metadata": {},
   "outputs": [
    {
     "name": "stdout",
     "output_type": "stream",
     "text": [
      "1000\n",
      "[391895, 522418, 184613, 318219, 554625, 397133, 574769, 60623, 309022, 5802]\n"
     ]
    }
   ],
   "source": [
    "print(len(cocoEval.params['image_id']))\n",
    "print(cocoEval.params['image_id'][:10])"
   ]
  },
  {
   "cell_type": "code",
   "execution_count": 6,
   "metadata": {
    "collapsed": true
   },
   "outputs": [],
   "source": [
    "fakeres_raw = json.load(open(resFile, 'r'))"
   ]
  },
  {
   "cell_type": "code",
   "execution_count": 7,
   "metadata": {},
   "outputs": [
    {
     "name": "stdout",
     "output_type": "stream",
     "text": [
      "1000\n",
      "[{'image_id': 404464, 'caption': 'black and white photo of a man standing in front of a building'}, {'image_id': 380932, 'caption': 'group of people are on the side of a snowy field'}, {'image_id': 565778, 'caption': 'train traveling down a train station'}, {'image_id': 431573, 'caption': 'red fire hydrant sitting on a park bench in front of a road'}, {'image_id': 322226, 'caption': 'black and white cat is sitting on top of a wooden bench'}, {'image_id': 237669, 'caption': 'baseball player swinging a bat at a game'}, {'image_id': 351053, 'caption': 'laptop computer sitting on top of a table'}, {'image_id': 344860, 'caption': 'zebra standing on top of a lush green field'}, {'image_id': 40102, 'caption': 'group of giraffes standing next to each other in a grassy field'}, {'image_id': 95427, 'caption': 'close up of a pile of oranges sitting on a table'}]\n"
     ]
    }
   ],
   "source": [
    "print(len(fakeres_raw))\n",
    "print(fakeres_raw[:10])"
   ]
  },
  {
   "cell_type": "code",
   "execution_count": 8,
   "metadata": {},
   "outputs": [
    {
     "name": "stdout",
     "output_type": "stream",
     "text": [
      "1000\n"
     ]
    }
   ],
   "source": [
    "print(len(set([res['image_id'] for res in fakeres_raw])))"
   ]
  }
 ],
 "metadata": {
  "kernelspec": {
   "display_name": "Python 3",
   "language": "python",
   "name": "python3"
  },
  "language_info": {
   "codemirror_mode": {
    "name": "ipython",
    "version": 3
   },
   "file_extension": ".py",
   "mimetype": "text/x-python",
   "name": "python",
   "nbconvert_exporter": "python",
   "pygments_lexer": "ipython3",
   "version": "3.6.3"
  }
 },
 "nbformat": 4,
 "nbformat_minor": 2
}
